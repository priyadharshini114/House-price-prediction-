{
  "nbformat": 4,
  "nbformat_minor": 0,
  "metadata": {
    "colab": {
      "provenance": []
    },
    "kernelspec": {
      "name": "python3",
      "display_name": "Python 3"
    },
    "language_info": {
      "name": "python"
    }
  },
  "cells": [
    {
      "cell_type": "code",
      "execution_count": 115,
      "metadata": {
        "id": "aKhMHVIbG7tu"
      },
      "outputs": [],
      "source": [
        "# Load libraries\n",
        "import numpy as np\n",
        "import matplotlib.pyplot as plt  # Add this line\n",
        "%matplotlib inline\n",
        "import pylab as pl\n",
        "from sklearn import datasets\n",
        "from sklearn.tree import DecisionTreeRegressor\n",
        "from sklearn.metrics import mean_squared_error, median_absolute_error, r2_score, mean_absolute_error\n",
        "from sklearn.model_selection import GridSearchCV, train_test_split\n",
        "\n",
        "import pandas as pd\n",
        "import numpy as np\n",
        "\n",
        "# Rest of the code remains the same...\n"
      ]
    },
    {
      "cell_type": "code",
      "source": [
        "def load_data():\n",
        "    \"\"\"Load the Boston dataset.\"\"\"\n",
        "    # Fetch the dataset from the original source\n",
        "    data_url= \"http://lib.stat.cmu.edu/datasets/boston\"\n",
        "    # data = priya\n",
        "    raw_df = pd.read_csv(data_url, sep=\"\\s+\", skiprows=22, header=None)\n",
        "    # Combine features and target\n",
        "    data = np.hstack([raw_df.values[::2, :], raw_df.values[1::2, :2]])\n",
        "    target = raw_df.values[1::2, 2]\n",
        "    # Return data and target as a dictionary\n",
        "    return {'data': data, 'target': target}"
      ],
      "metadata": {
        "id": "GbEy8aMlLSv8"
      },
      "execution_count": 129,
      "outputs": []
    },
    {
      "cell_type": "code",
      "source": [
        "def explore_city_data(city_data):\n",
        "    \"\"\"Calculate the Boston housing statistics.\"\"\"\n",
        "\n",
        "    # Get the labels and features from the housing data\n",
        "    housing_prices = city_data.target\n",
        "    housing_features = city_data.data\n",
        "\n",
        "    # Please calculate the following values using the Numpy library\n",
        "    # Size of data (number of houses)?\n",
        "    # Number of features?\n",
        "    # Minimum price?\n",
        "    # Maximum price?\n",
        "    # Calculate mean price?\n",
        "    # Calculate median price?\n",
        "    # Calculate standard deviation?\n",
        "    number_of_houses = housing_features.shape[0]\n",
        "    number_of_features = housing_features.shape[1]\n",
        "    max_price = np.max(housing_prices)\n",
        "    min_price = np.min(housing_prices)\n",
        "    mean_price = np.mean(housing_prices)\n",
        "    median_price = np.median(housing_prices)\n",
        "    standard_deviation = np.std(housing_prices)\n",
        "\n",
        "    print(\"number of houses:\", number_of_houses)\n",
        "    print(\"number of features:\", number_of_features)\n",
        "    print(\"max price of house:\", max_price)\n",
        "    print(\"min price of house:\", min_price)\n",
        "    print(\"mean price of house:\", mean_price)\n",
        "    print(\"median price of house:\", median_price)\n",
        "    print(\"standard deviation for prices of house:\", standard_deviation)"
      ],
      "metadata": {
        "id": "A__vXx26LXIQ"
      },
      "execution_count": 130,
      "outputs": []
    },
    {
      "cell_type": "code",
      "source": [
        "def performance_metric(label, prediction):\n",
        "    \"\"\"Calculate and return the appropriate error performance metric.\"\"\"\n",
        "    return mean_squared_error(label, prediction)"
      ],
      "metadata": {
        "id": "W2vf-b4OLaia"
      },
      "execution_count": 131,
      "outputs": []
    },
    {
      "cell_type": "code",
      "source": [
        "def split_data(city_data):\n",
        "    \"\"\"Randomly shuffle the sample set. Divide it into 70 percent training and 30 percent testing data.\"\"\"\n",
        "    X, y = city_data.data, city_data.target\n",
        "    X_train, X_test, y_train, y_test = train_test_split(X, y, test_size=0.30, train_size=0.70, random_state=42)\n",
        "    return X_train, y_train, X_test, y_test"
      ],
      "metadata": {
        "id": "tzizB44rLdIV"
      },
      "execution_count": 132,
      "outputs": []
    },
    {
      "cell_type": "code",
      "source": [
        "def learning_curve(depth, X_train, y_train, X_test, y_test):\n",
        "    \"\"\"Calculate the performance of the model after a set of training data.\"\"\"\n",
        "    sizes = np.linspace(1, len(X_train), 50)\n",
        "    train_err = np.zeros(len(sizes))\n",
        "    test_err = np.zeros(len(sizes))\n",
        "\n",
        "    print(\"Decision Tree with Max Depth: \")\n",
        "    print(depth)\n",
        "    for i, s in enumerate(sizes):\n",
        "        regressor = DecisionTreeRegressor(max_depth=depth)\n",
        "        regressor.fit(X_train[:s], y_train[:s])\n",
        "        train_err[i] = performance_metric(y_train[:s], regressor.predict(X_train[:s]))\n",
        "        test_err[i] = performance_metric(y_test, regressor.predict(X_test))\n",
        "\n",
        "    pl.figure()\n",
        "    pl.plot(y_train - regressor.predict(X_train))\n",
        "    # pl.savefig(\"residual_plot.png\")\n",
        "    learning_curve_graph(sizes, train_err, test_err, depth)"
      ],
      "metadata": {
        "id": "ed55JV18Lga9"
      },
      "execution_count": 133,
      "outputs": []
    },
    {
      "cell_type": "code",
      "source": [
        "def learning_curve_graph(sizes, train_err, test_err, depth):\n",
        "    \"\"\"Plot training and test error as a function of the training size.\"\"\"\n",
        "    pl.figure()\n",
        "    pl.title('Decision Trees: Performance vs Training Size')\n",
        "    pl.plot(sizes, test_err, lw=2, label='test error')\n",
        "    pl.plot(sizes, train_err, lw=2, label='training error')\n",
        "    pl.legend()\n",
        "    pl.xlabel('Training Size')\n",
        "    pl.ylabel('Error')\n",
        "    # pl.show()\n",
        "    pl.savefig(\"learning_curve\" + \"_\" + str(depth) + \".png\")"
      ],
      "metadata": {
        "id": "aV74qpY4LjTI"
      },
      "execution_count": 134,
      "outputs": []
    },
    {
      "cell_type": "code",
      "source": [
        "def model_complexity(X_train, y_train, X_test, y_test):\n",
        "    \"\"\"Calculate the performance of the model as model complexity increases.\"\"\"\n",
        "    print(\"Model Complexity: \")\n",
        "\n",
        "    max_depth = np.arange(1, 25)\n",
        "    train_err = np.zeros(len(max_depth))\n",
        "    test_err = np.zeros(len(max_depth))\n",
        "\n",
        "    for i, d in enumerate(max_depth):\n",
        "        regressor = DecisionTreeRegressor(max_depth=d)\n",
        "        regressor.fit(X_train, y_train)\n",
        "        train_err[i] = performance_metric(y_train, regressor.predict(X_train))\n",
        "        test_err[i] = performance_metric(y_test, regressor.predict(X_test))\n",
        "\n",
        "    model_complexity_graph(max_depth, train_err, test_err)"
      ],
      "metadata": {
        "id": "szhj1owELtBG"
      },
      "execution_count": 135,
      "outputs": []
    },
    {
      "cell_type": "code",
      "source": [
        "def model_complexity_graph(max_depth, train_err, test_err):\n",
        "    \"\"\"Plot training and test error as a function of the depth of the decision tree learn.\"\"\"\n",
        "    pl.figure()\n",
        "    pl.title('Decision Trees: Performance vs Max Depth')\n",
        "    pl.plot(max_depth, test_err, lw=2, label='test error')\n",
        "    pl.plot(max_depth, train_err, lw=2, label='training error')\n",
        "    pl.legend()\n",
        "    pl.xlabel('Max Depth')\n",
        "    pl.ylabel('Error')\n",
        "    # pl.show()\n",
        "    pl.savefig(\"model_complexity.png\")"
      ],
      "metadata": {
        "id": "GovCum_fLxaG"
      },
      "execution_count": 136,
      "outputs": []
    },
    {
      "cell_type": "code",
      "source": [
        "def fit_predict_model(city_data):\n",
        "    \"\"\"Find and tune the optimal model. Make a prediction on housing data.\"\"\"\n",
        "    X, y = city_data.data, city_data.target\n",
        "    regressor = DecisionTreeRegressor()\n",
        "\n",
        "    parameters = {'max_depth': (1, 2, 3, 4, 5, 6, 7, 8, 9, 10),\n",
        "                  'min_samples_split': (1, 2, 3),\n",
        "                  'min_samples_leaf': (1, 2, 3)\n",
        "                  }\n",
        "\n",
        "    regressors = GridSearchCV(regressor, parameters, scoring='neg_mean_squared_error')\n",
        "    regressors.fit(X, y)\n",
        "    reg = regressors.best_estimator_\n",
        "\n",
        "    print(\"Final Model: \")\n",
        "    print(reg.fit(X, y))\n",
        "\n",
        "    x = [11.95, 0.00, 18.100, 0, 0.6590, 5.6090, 90.00, 1.385, 24, 680.0, 20.20, 332.09, 12.13]\n",
        "    y = reg.predict([x])\n",
        "    print(\"House: \" + str(x))\n",
        "    print(\"Prediction: \" + str(y))"
      ],
      "metadata": {
        "id": "JYhXVaCtL0De"
      },
      "execution_count": 137,
      "outputs": []
    },
    {
      "cell_type": "code",
      "source": [
        "def explore_city_data(city_data):\n",
        "    \"\"\"Calculate the Boston housing statistics.\"\"\"\n",
        "    if isinstance(city_data, dict):\n",
        "        # Handle the dictionary structure\n",
        "        housing_prices = city_data['target']\n",
        "        housing_features = city_data['data']\n",
        "    else:\n",
        "        # Handle the original Boston dataset object\n",
        "        housing_prices = city_data.target\n",
        "        housing_features = city_data.data\n",
        "\n",
        "    # Calculate the statistics as before\n",
        "    number_of_houses = housing_features.shape[0]\n",
        "    number_of_features = housing_features.shape[1]\n",
        "    max_price = np.max(housing_prices)\n",
        "    min_price = np.min(housing_prices)\n",
        "    mean_price = np.mean(housing_prices)\n",
        "    median_price = np.median(housing_prices)\n",
        "    standard_deviation = np.std(housing_prices)\n",
        "\n",
        "    print(\"number of houses:\", number_of_houses)\n",
        "    print(\"number of features:\", number_of_features)\n",
        "    print(\"max price of house:\", max_price)\n",
        "    print(\"min price of house:\", min_price)\n",
        "    print(\"mean price of house:\", mean_price)\n",
        "    print(\"median price of house:\", median_price)\n",
        "    print(\"standard deviation for prices of house:\", standard_deviation)"
      ],
      "metadata": {
        "id": "yIU1OuyPL4Ki"
      },
      "execution_count": 138,
      "outputs": []
    },
    {
      "cell_type": "code",
      "source": [
        "def learning_curve(depth, X_train, y_train, X_test, y_test):\n",
        "    \"\"\"Calculate the performance of the model after a set of training data.\"\"\"\n",
        "    sizes = np.linspace(1, len(X_train), 50)\n",
        "    train_err = np.zeros(len(sizes))\n",
        "    test_err = np.zeros(len(sizes))\n",
        "\n",
        "    for i, s in enumerate(sizes):\n",
        "        regressor = DecisionTreeRegressor(max_depth=depth)\n",
        "        regressor.fit(X_train[:s], y_train[:s])\n",
        "        train_err[i] = mean_squared_error(y_train[:s], regressor.predict(X_train[:s]))\n",
        "        test_err[i] = mean_squared_error(y_test, regressor.predict(X_test))\n",
        "\n",
        "    return sizes, train_err, test_err"
      ],
      "metadata": {
        "id": "knP7A-4VL8A_"
      },
      "execution_count": 139,
      "outputs": []
    },
    {
      "cell_type": "code",
      "source": [
        "def model_complexity(X_train, y_train, X_test, y_test):\n",
        "    \"\"\"Calculate the performance of the model as model complexity increases.\"\"\"\n",
        "    max_depths = np.arange(1, 25)\n",
        "    train_err = np.zeros(len(max_depths))\n",
        "    test_err = np.zeros(len(max_depths))\n",
        "\n",
        "    for i, d in enumerate(max_depths):\n",
        "        regressor = DecisionTreeRegressor(max_depth=d)\n",
        "        regressor.fit(X_train, y_train)\n",
        "        train_err[i] = mean_squared_error(y_train, regressor.predict(X_train))\n",
        "        test_err[i] = mean_squared_error(y_test, regressor.predict(X_test))\n",
        "\n",
        "    return max_depths, train_err, test_err\n"
      ],
      "metadata": {
        "id": "TvanTihxRWgc"
      },
      "execution_count": 140,
      "outputs": []
    },
    {
      "cell_type": "code",
      "source": [
        "import matplotlib.pyplot as plt\n",
        "def main():\n",
        "    \"\"\"Analyze the Boston housing data. Evaluate and validate the\n",
        "    performance of a Decision Tree regressor on the housing data.\n",
        "    Fine-tune the model to make predictions on unseen data.\"\"\"\n",
        "\n",
        "    # Load data\n",
        "    city_data = load_data()\n",
        "\n",
        "    # Explore the data\n",
        "    explore_city_data(city_data)\n",
        "\n",
        "    from sklearn.model_selection import train_test_split\n",
        "\n",
        "def split_data(city_data):\n",
        "    \"\"\"Randomly shuffle the sample set. Divide it into 70 percent training and 30 percent testing data.\"\"\"\n",
        "    if isinstance(city_data, dict):\n",
        "        X, y = city_data['data'], city_data['target']\n",
        "    else:\n",
        "        X, y = city_data.data, city_data.target\n",
        "\n",
        "    X_train, X_test, y_train, y_test = train_test_split(\n",
        "        X, y, test_size=0.30, train_size=0.70, random_state=42)\n",
        "\n",
        "    return X_train, y_train, X_test, y_test\n",
        "\n",
        "\n",
        "    # Learning Curve Graphs\n",
        "    max_depths = [1, 2, 3, 4, 5, 6, 7, 8, 9, 10]\n",
        "    learning_curves = []\n",
        "    for max_depth in max_depths:\n",
        "        learning_curves.append(learning_curve(max_depth, X_train, y_train, X_test, y_test))\n",
        "\n",
        "    # Model Complexity Graph\n",
        "    model_complexity_data = model_complexity(X_train, y_train, X_test, y_test)\n",
        "\n",
        "    # Plot Learning Curve Graphs\n",
        "    plt.figure(figsize=(10, 5))\n",
        "    for i, max_depth in enumerate(max_depths):\n",
        "        plt.plot(learning_curves[i][0], learning_curves[i][1], label=f'Training Error (Depth {max_depth})', linestyle='--')\n",
        "        plt.plot(learning_curves[i][0], learning_curves[i][2], label=f'Test Error (Depth {max_depth})')\n",
        "\n",
        "    plt.title('Learning Curves for Decision Trees')\n",
        "    plt.xlabel('Training Size')\n",
        "    plt.ylabel('Mean Squared Error')\n",
        "    plt.legend()\n",
        "    plt.grid(True)\n",
        "    plt.show()\n",
        "\n",
        "    # Plot Model Complexity Graph\n",
        "    plt.figure(figsize=(10, 5))\n",
        "    plt.plot(model_complexity_data[0], model_complexity_data[1], label='Training Error')\n",
        "    plt.plot(model_complexity_data[0], model_complexity_data[2], label='Test Error')\n",
        "    plt.title('Model Complexity Graph')\n",
        "    plt.xlabel('Max Depth')\n",
        "    plt.ylabel('Mean Squared Error')\n",
        "    plt.legend()\n",
        "    plt.grid(True)\n",
        "    plt.show()\n",
        "\n",
        "if __name__ == \"__main__\":\n",
        "    main()"
      ],
      "metadata": {
        "colab": {
          "base_uri": "https://localhost:8080/"
        },
        "id": "f1IXMbfCRamP",
        "outputId": "c006a6cf-ee8e-4540-a21f-a6fe9ef304d4"
      },
      "execution_count": 141,
      "outputs": [
        {
          "output_type": "stream",
          "name": "stdout",
          "text": [
            "number of houses: 506\n",
            "number of features: 13\n",
            "max price of house: 50.0\n",
            "min price of house: 5.0\n",
            "mean price of house: 22.532806324110677\n",
            "median price of house: 21.2\n",
            "standard deviation for prices of house: 9.188011545278203\n"
          ]
        }
      ]
    },
    {
      "cell_type": "code",
      "source": [
        "def learning_curve_graph(sizes, train_err, test_err, depth):\n",
        "    \"\"\"Plot training and test error as a function of the training size.\"\"\"\n",
        "    pl.figure()\n",
        "    pl.title('Decision Trees: Performance vs Training Size')\n",
        "    pl.plot(sizes, test_err, lw=2, label='test error')\n",
        "    pl.plot(sizes, train_err, lw=2, label='training error')\n",
        "    pl.legend()\n",
        "    pl.xlabel('Training Size')\n",
        "    pl.ylabel('Error')\n",
        "    # pl.show()\n",
        "    pl.savefig(\"learning_curve\" + \"_\" + str(depth) + \".png\")\n",
        "    plt.show()"
      ],
      "metadata": {
        "id": "97lCoVQ8R5kQ"
      },
      "execution_count": 144,
      "outputs": []
    },
    {
      "cell_type": "code",
      "source": [
        "import numpy as np\n",
        "import matplotlib.pyplot as plt\n",
        "from sklearn.tree import DecisionTreeRegressor\n",
        "from sklearn.metrics import mean_squared_error\n",
        "from sklearn.model_selection import learning_curve, train_test_split\n",
        "\n",
        "# Function to generate synthetic dataset\n",
        "def generate_data(n_samples=100, n_features=1, noise=0.1):\n",
        "    np.random.seed(0)\n",
        "    X = np.random.rand(n_samples, n_features)\n",
        "    y = np.sin(2 * np.pi * X).ravel() + noise * np.random.randn(n_samples)\n",
        "    return X, y\n",
        "\n",
        "# Create synthetic dataset\n",
        "X, y = generate_data()\n",
        "\n",
        "# Split dataset into training and testing sets\n",
        "X_train, X_test, y_train, y_test = train_test_split(X, y, test_size=0.3, random_state=42)\n",
        "\n",
        "# Function to plot learning curve\n",
        "def plot_learning_curve(estimator, X, y):\n",
        "    train_sizes, train_scores, test_scores = learning_curve(estimator, X, y, cv=5, train_sizes=np.linspace(0.1, 1.0, 10))\n",
        "    train_scores_mean = np.mean(train_scores, axis=1)\n",
        "    train_scores_std = np.std(train_scores, axis=1)\n",
        "    test_scores_mean = np.mean(test_scores, axis=1)\n",
        "    test_scores_std = np.std(test_scores, axis=1)\n",
        "\n",
        "    plt.figure()\n",
        "    plt.title(\"Learning Curve\")\n",
        "    plt.xlabel(\"Training Examples\")\n",
        "    plt.ylabel(\"Score\")\n",
        "    plt.grid()\n",
        "    plt.fill_between(train_sizes, train_scores_mean - train_scores_std, train_scores_mean + train_scores_std, alpha=0.1, color=\"r\")\n",
        "    plt.fill_between(train_sizes, test_scores_mean - test_scores_std, test_scores_mean + test_scores_std, alpha=0.1, color=\"g\")\n",
        "    plt.plot(train_sizes, train_scores_mean, 'o-', color=\"r\", label=\"Training Score\")\n",
        "    plt.plot(train_sizes, test_scores_mean, 'o-', color=\"g\", label=\"Cross-validation Score\")\n",
        "    plt.legend(loc=\"best\")\n",
        "    plt.show()\n",
        "\n",
        "# Create Decision Tree Regressor\n",
        "estimator = DecisionTreeRegressor(max_depth=5)\n",
        "\n",
        "# Plot learning curve\n",
        "plot_learning_curve(estimator, X_train, y_train)\n"
      ],
      "metadata": {
        "colab": {
          "base_uri": "https://localhost:8080/",
          "height": 472
        },
        "id": "BpB6BO15vcjb",
        "outputId": "17d7f163-fa76-468c-b27e-7aabb810ea8f"
      },
      "execution_count": 147,
      "outputs": [
        {
          "output_type": "display_data",
          "data": {
            "text/plain": [
              "<Figure size 640x480 with 1 Axes>"
            ],
            "image/png": "[encoded data removed]"
          },
          "metadata": {}
        }
      ]
    },
    {
      "cell_type": "markdown",
      "source": [
        "**Learning Curve Analysis**\n",
        "\n",
        "The learning curve graph presented here illustrates the performance of a machine learning model, specifically a Decision Tree Regressor, as a function of the number of training examples. The graph provides insights into the model's ability to generalize to unseen data and its learning behavior."
      ],
      "metadata": {
        "id": "al9eaAQ52DGl"
      }
    },
    {
      "cell_type": "markdown",
      "source": [
        "**implications:**\n",
        "\n",
        "**High Bias (Underfitting):** If both training and cross-validation scores converge to a low value, it suggests that the model is too simple to capture the underlying patterns in the data. In such cases, increasing the model complexity (e.g., by adding more features or using a more sophisticated algorithm) may improve performance.\n",
        "\n",
        "**High Variance (Overfitting):** If there is a significant gap between the training and cross-validation scores, it indicates that the model is overly complex and is fitting too closely to the training data. Regularization techniques, feature selection, or increasing the size of the training dataset may help alleviate overfitting and improve generalization."
      ],
      "metadata": {
        "id": "gEqd4B7v1vIb"
      }
    },
    {
      "cell_type": "markdown",
      "source": [
        "**CONCLUSION**\n",
        "\n",
        "The price in the presented dataset exhibits a moderate range, with a maximum value of 50.0 and a minimum of 5.0. The mean price stands at 22.53, with a median of 21.2, indicating a generally balanced distribution. However, the standard deviation of 9.18 suggests some variability around the mean."
      ],
      "metadata": {
        "id": "gycJeB6X2Zuv"
      }
    },
    {
      "cell_type": "code",
      "source": [],
      "metadata": {
        "id": "N6caxc4b2tWU"
      },
      "execution_count": null,
      "outputs": []
    }
  ]
}